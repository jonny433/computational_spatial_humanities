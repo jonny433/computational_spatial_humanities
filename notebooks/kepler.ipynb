{
 "cells": [
  {
   "cell_type": "code",
   "execution_count": null,
   "id": "7e2445ec",
   "metadata": {
    "pycharm": {
     "name": "#%%\n"
    }
   },
   "outputs": [],
   "source": [
    "from typing import List\n",
    "\n",
    "import pandas as pd\n",
    "import json\n",
    "\n",
    "from IPython.display import HTML\n",
    "\n",
    "from keplergl import KeplerGl"
   ]
  },
  {
   "cell_type": "code",
   "execution_count": null,
   "id": "f36bc42f",
   "metadata": {
    "pycharm": {
     "name": "#%%\n"
    }
   },
   "outputs": [],
   "source": [
    "import os\n",
    "os.listdir(\"../kepler_gl_maps\")"
   ]
  },
  {
   "cell_type": "code",
   "execution_count": null,
   "id": "72a2e579",
   "metadata": {
    "pycharm": {
     "name": "#%%\n"
    }
   },
   "outputs": [],
   "source": [
    "data_path = \"../data/\"\n",
    "keplergl_config_path = \"../keplergl_config/\"\n",
    "kepler_output_path = \"../kepler_gl_maps/\""
   ]
  },
  {
   "cell_type": "code",
   "execution_count": null,
   "id": "411d12e2",
   "metadata": {
    "pycharm": {
     "name": "#%%\n"
    }
   },
   "outputs": [],
   "source": [
    "def convert_to_date(df:pd.DataFrame, features:List[str]) -> None:\n",
    "    df = df.convert_dtypes()\n",
    "    for column in features:\n",
    "            df[column] = pd.to_datetime(df[column])\n",
    "    return df"
   ]
  },
  {
   "cell_type": "markdown",
   "id": "c3a3058b-45d0-4ef7-923f-534b6e0c0374",
   "metadata": {
    "pycharm": {
     "name": "#%% md\n"
    }
   },
   "source": [
    "# Gender Map"
   ]
  },
  {
   "cell_type": "code",
   "execution_count": null,
   "id": "e58768d3",
   "metadata": {
    "pycharm": {
     "name": "#%%\n"
    }
   },
   "outputs": [],
   "source": [
    "gender_df = pd.read_csv(f\"{data_path}gender_data.csv\")\n",
    "# gender_df = convert_to_date(gender_df, [\"free_from\"])"
   ]
  },
  {
   "cell_type": "code",
   "execution_count": null,
   "id": "61734885",
   "metadata": {
    "pycharm": {
     "name": "#%%\n"
    }
   },
   "outputs": [],
   "source": [
    "with open(f\"{keplergl_config_path}gender_config.json\", \"r\") as file:\n",
    "    gender_kepler_config = json.load(file)"
   ]
  },
  {
   "cell_type": "code",
   "execution_count": null,
   "id": "c3ed8fa0",
   "metadata": {
    "pycharm": {
     "name": "#%%\n"
    }
   },
   "outputs": [],
   "source": [
    "map_gender = KeplerGl(height=400, data={\"t5nwntixa\": gender_df}, config=gender_kepler_config)"
   ]
  },
  {
   "cell_type": "code",
   "execution_count": null,
   "id": "fb238f3e",
   "metadata": {
    "pycharm": {
     "name": "#%%\n"
    }
   },
   "outputs": [],
   "source": [
    "map_gender"
   ]
  },
  {
   "cell_type": "code",
   "execution_count": null,
   "id": "881cad66",
   "metadata": {
    "pycharm": {
     "name": "#%%\n"
    }
   },
   "outputs": [],
   "source": [
    "display(map_gender)"
   ]
  },
  {
   "cell_type": "code",
   "execution_count": null,
   "id": "cab08a9e-01a2-4912-844e-cefc709a7ad3",
   "metadata": {
    "pycharm": {
     "name": "#%%\n"
    },
    "scrolled": true
   },
   "outputs": [],
   "source": [
    "map_gender.save_to_html(file_name=f\"{kepler_output_path}gender_map.html\")  # f\"{kepler_output_path}gender_map.html\""
   ]
  },
  {
   "cell_type": "code",
   "execution_count": null,
   "id": "3f860ecd-ec7b-4670-a7be-94d886ea943a",
   "metadata": {
    "pycharm": {
     "name": "#%%\n"
    }
   },
   "outputs": [],
   "source": [
    "with open(f\"{kepler_output_path}gender_map.html\", 'r') as f:\n",
    "    html_content = f.read()"
   ]
  },
  {
   "cell_type": "code",
   "execution_count": null,
   "id": "d5f44dff-015d-4ace-9d1d-92f372eee6c6",
   "metadata": {
    "pycharm": {
     "name": "#%%\n"
    }
   },
   "outputs": [],
   "source": [
    "display(HTML(html_content))"
   ]
  },
  {
   "cell_type": "markdown",
   "id": "cbfc9c37-9fa6-47ef-a939-4dab2ab49415",
   "metadata": {
    "pycharm": {
     "name": "#%% md\n"
    }
   },
   "source": [
    "# Arc Map"
   ]
  },
  {
   "cell_type": "code",
   "execution_count": null,
   "id": "ca63d3ed-bccf-462d-becc-e7ac3dbfbe59",
   "metadata": {
    "pycharm": {
     "name": "#%%\n"
    }
   },
   "outputs": [],
   "source": [
    "arc_df = pd.read_csv(f\"{data_path}arc_wg_gesucht.csv\")"
   ]
  },
  {
   "cell_type": "code",
   "execution_count": null,
   "id": "de5b2ce8-470e-46ca-92e3-d548221bd5c7",
   "metadata": {
    "editable": true,
    "slideshow": {
     "slide_type": ""
    },
    "tags": [],
    "pycharm": {
     "name": "#%%\n"
    }
   },
   "outputs": [],
   "source": [
    "with open(f\"{keplergl_config_path}arc_config.json\", \"r\") as file:\n",
    "    arc_kepler_config = json.load(file)"
   ]
  },
  {
   "cell_type": "code",
   "execution_count": null,
   "id": "86feb613-40ad-4d82-a482-c49f1ee08ffb",
   "metadata": {
    "editable": true,
    "slideshow": {
     "slide_type": ""
    },
    "tags": [],
    "pycharm": {
     "name": "#%%\n"
    }
   },
   "outputs": [],
   "source": [
    "arc_map = KeplerGl(height=400, data={\"uzewboel\": arc_df}, config=arc_kepler_config)"
   ]
  },
  {
   "cell_type": "code",
   "execution_count": null,
   "id": "aa85ab78-441e-4701-a61a-c6cacd4a2e5f",
   "metadata": {
    "editable": true,
    "slideshow": {
     "slide_type": ""
    },
    "tags": [],
    "pycharm": {
     "name": "#%%\n"
    }
   },
   "outputs": [],
   "source": [
    "arc_map.save_to_html(file_name=f\"{kepler_output_path}arc_map.html\")"
   ]
  },
  {
   "cell_type": "code",
   "execution_count": null,
   "id": "0d546158-9a93-4a6b-ac9f-d9d1e1a70ed6",
   "metadata": {
    "editable": true,
    "slideshow": {
     "slide_type": ""
    },
    "tags": [],
    "pycharm": {
     "name": "#%%\n"
    }
   },
   "outputs": [],
   "source": [
    "arc_map"
   ]
  }
 ],
 "metadata": {
  "kernelspec": {
   "display_name": "Python 3 (ipykernel)",
   "language": "python",
   "name": "python3"
  },
  "language_info": {
   "codemirror_mode": {
    "name": "ipython",
    "version": 3
   },
   "file_extension": ".py",
   "mimetype": "text/x-python",
   "name": "python",
   "nbconvert_exporter": "python",
   "pygments_lexer": "ipython3",
   "version": "3.10.7"
  }
 },
 "nbformat": 4,
 "nbformat_minor": 5
}