{
 "cells": [
  {
   "cell_type": "code",
   "execution_count": 1,
   "metadata": {
    "pycharm": {
     "name": "#%%\n"
    }
   },
   "outputs": [],
   "source": [
    "from typing import List, Tuple\n",
    "\n",
    "import math\n",
    "import pandas as pd\n",
    "import numpy as np\n",
    "import spacy\n",
    "import json\n",
    "\n",
    "from sklearn.feature_extraction.text import TfidfVectorizer\n",
    "from sklearn.cluster import KMeans"
   ]
  },
  {
   "cell_type": "code",
   "execution_count": 2,
   "metadata": {
    "pycharm": {
     "name": "#%%\n"
    }
   },
   "outputs": [
    {
     "data": {
      "text/plain": [
       "['arc_wg_gesucht.csv',\n",
       " 'gender_data.csv',\n",
       " 'leipzigortsteile.json',\n",
       " 'places.json',\n",
       " 'places_world.json',\n",
       " 'Summary_subpages_w_location3.csv',\n",
       " 'Summary_subpages_w_location_Backup_06_06.txt',\n",
       " 'wg_gesucht.csv']"
      ]
     },
     "execution_count": 2,
     "metadata": {},
     "output_type": "execute_result"
    }
   ],
   "source": [
    "import os\n",
    "data_path = \"../data/\"\n",
    "keplergl_config_path = \"../keplergl_config/\"\n",
    "os.listdir(\"../data\")"
   ]
  },
  {
   "cell_type": "code",
   "execution_count": 3,
   "metadata": {
    "pycharm": {
     "name": "#%%\n"
    }
   },
   "outputs": [],
   "source": [
    "# df = pd.read_csv(f\"{data_path}wg_gesucht.csv\")"
   ]
  },
  {
   "cell_type": "code",
   "execution_count": 19,
   "metadata": {
    "pycharm": {
     "name": "#%%\n"
    }
   },
   "outputs": [],
   "source": [
    "df = pd.read_csv(f\"{data_path}Summary_subpages_w_location3.csv\", sep=',')\n",
    "df = df.convert_dtypes()\n",
    "for column in [\"free_from\"]:\n",
    "    df[column] = df[column].astype(str).str.zfill(8)  # Füge führende Nullen hinzu, falls erforderlich\n",
    "    df[column] = df[column] + f\" 00:00:{np.random.randint(1, 59)}\"\n",
    "    df[column] = pd.to_datetime(df[column], format=\"%d.%m.%Y %H:%M:%S\")\n",
    "\n"
   ]
  },
  {
   "cell_type": "markdown",
   "metadata": {
    "pycharm": {
     "name": "#%% md\n"
    }
   },
   "source": [
    "# NLP"
   ]
  },
  {
   "cell_type": "code",
   "execution_count": 21,
   "metadata": {
    "pycharm": {
     "name": "#%%\n"
    }
   },
   "outputs": [],
   "source": [
    "nlp = spacy.load(\"de_core_news_lg\")"
   ]
  },
  {
   "cell_type": "code",
   "execution_count": 22,
   "metadata": {
    "pycharm": {
     "name": "#%%\n"
    }
   },
   "outputs": [],
   "source": [
    "# Erstelle eine leere Spalte mit dem Namen \"full_description\"\n",
    "df['full_description'] = np.nan\n",
    "\n",
    "# Kombiniere die Werte der ausgewählten Spalten zu einer neuen Spalte \"full_description\"\n",
    "df['full_description'] = df[['room_description', 'location_description', 'flat_live', 'additional']].apply(\n",
    "    lambda x: ' '.join([str(i) for i in x if not pd.isna(i)]), axis=1\n",
    ")"
   ]
  },
  {
   "cell_type": "markdown",
   "metadata": {
    "pycharm": {
     "name": "#%% md\n"
    }
   },
   "source": [
    "## Places, Persons, Organisationen hinzufühgen"
   ]
  },
  {
   "cell_type": "code",
   "execution_count": null,
   "metadata": {
    "pycharm": {
     "name": "#%%\n"
    }
   },
   "outputs": [],
   "source": [
    "# Ausgabe der verfügbaren Labels\n",
    "labels = nlp.get_pipe(\"ner\").labels\n",
    "print(labels)"
   ]
  },
  {
   "cell_type": "code",
   "execution_count": 23,
   "metadata": {
    "pycharm": {
     "name": "#%%\n"
    }
   },
   "outputs": [],
   "source": [
    "def extract_entities(text: str)-> Tuple[List[str], List[str], List[str]]:\n",
    "    \"\"\"Extrahiert Orte, Personen und Organisationen aus dem gegebenen Text.\n",
    "\n",
    "    Args:\n",
    "        text (str): Der Text, aus dem die Entitäten extrahiert werden sollen.\n",
    "\n",
    "    Returns:\n",
    "        Tuple[List[str], List[str], List[str]]: Ein Tupel, das die extrahierten Entitäten enthält.\n",
    "            Das erste Element ist eine Liste von Orten, das zweite Element eine Liste von Personen\n",
    "            und das dritte Element eine Liste von Organisationen.\n",
    "    \"\"\"\n",
    "    doc = nlp(text)\n",
    "    places = [token.text for token in doc.ents if token.label_ == \"LOC\"]\n",
    "    persons = [token.text for token in doc.ents if token.label_ == \"PER\"]\n",
    "    organizations = [token.text for token in doc.ents if token.label_ == \"ORG\"]\n",
    "    return places, persons, organizations\n",
    "\n",
    "# Anwenden der Spacy-Pipeline auf die Spalte \"full_description\"\n",
    "df[[\"places\", \"persons\", \"organizations\"]] = df[\"full_description\"].apply(extract_entities).apply(pd.Series)"
   ]
  },
  {
   "cell_type": "markdown",
   "metadata": {
    "pycharm": {
     "name": "#%% md\n"
    }
   },
   "source": [
    "### Places mit Koordinaten versehen"
   ]
  },
  {
   "cell_type": "code",
   "execution_count": null,
   "metadata": {
    "pycharm": {
     "name": "#%%\n"
    }
   },
   "outputs": [],
   "source": [
    "unique_places = set()\n",
    "\n",
    "for places_list in df['places']:\n",
    "    unique_places.update(places_list)\n",
    "print(len(unique_places), unique_places)"
   ]
  },
  {
   "cell_type": "code",
   "execution_count": null,
   "metadata": {
    "pycharm": {
     "name": "#%%\n"
    }
   },
   "outputs": [],
   "source": [
    "from geopy.geocoders import Nominatim\n",
    "from geopy.exc import GeocoderTimedOut\n",
    "from time import sleep\n",
    "\n",
    "# Erzeuge einen Nominatim-Geocoder\n",
    "geolocator = Nominatim(user_agent='my_app')\n",
    "\n",
    "# Funktion zum Geokodieren mit Rückversuchen bei Zeitüberschreitung\n",
    "def geocode_with_retry(location):\n",
    "    # city = \"Leipzig\"\n",
    "    # country = \"Deutschland\"\n",
    "    location = f\"{location}\"\n",
    "    max_retries = 3\n",
    "    retry_count = 0\n",
    "    while retry_count < max_retries:\n",
    "        try:\n",
    "            return geolocator.geocode(location)\n",
    "        except GeocoderTimedOut:\n",
    "            print(f\"Timeout{retry_count}: {location}\")\n",
    "            sleep(2 + retry_count)\n",
    "            retry_count += 1\n",
    "        except:\n",
    "            print(f\"Fehler{retry_count}: {location}\")\n",
    "            break\n",
    "    return None\n",
    "\n",
    "\n",
    "places_dict = {}\n",
    "count1 = 0\n",
    "count2 = 0\n",
    "# for location in unique_places:\n",
    "\n",
    "#     location_data = geocode_with_retry(location)\n",
    "\n",
    "#     if location_data:\n",
    "#         places_dict[location] = {\n",
    "#             \"status\": True,\n",
    "#             \"lon\": location_data.longitude,\n",
    "#             \"lat\": location_data.latitude,\n",
    "#             \"raw\": location_data.raw\n",
    "#         }\n",
    "#         count1 += 1\n",
    "#     else:\n",
    "#         places_dict[location] = {\n",
    "#             \"status\": False,\n",
    "#             \"lon\": 0.0,\n",
    "#             \"lat\": 0.0,\n",
    "#             \"raw\": {}\n",
    "#         }\n",
    "#         count2 += 1\n"
   ]
  },
  {
   "cell_type": "code",
   "execution_count": null,
   "metadata": {
    "pycharm": {
     "name": "#%%\n"
    }
   },
   "outputs": [],
   "source": []
  },
  {
   "cell_type": "code",
   "execution_count": 25,
   "metadata": {
    "pycharm": {
     "name": "#%%\n"
    }
   },
   "outputs": [],
   "source": [
    "with open(f\"{data_path}places.json\", \"r\", encoding='utf-8') as file:\n",
    "    places_lpz = json.load(file)"
   ]
  },
  {
   "cell_type": "code",
   "execution_count": 26,
   "metadata": {
    "pycharm": {
     "name": "#%%\n"
    }
   },
   "outputs": [],
   "source": [
    "clean_places = {}\n",
    "for key, value in places_lpz.items():\n",
    "    if value[\"stauts\"] == True:\n",
    "        clean_places[key] = value"
   ]
  },
  {
   "cell_type": "code",
   "execution_count": null,
   "metadata": {
    "pycharm": {
     "name": "#%%\n"
    }
   },
   "outputs": [],
   "source": []
  },
  {
   "cell_type": "code",
   "execution_count": null,
   "metadata": {
    "pycharm": {
     "name": "#%%\n"
    }
   },
   "outputs": [],
   "source": [
    "for key, value in clean_places.items():\n",
    "    if value['lat'] > 52 or value['lat'] < 50:\n",
    "        print(f\"{key}: {value['lat']}, {value['lon']}\")\n",
    "    elif value['lon'] > 13 or value['lon'] < 11:\n",
    "        print(f\"{key}: {value['lat']}, {value['lon']}\")"
   ]
  },
  {
   "cell_type": "code",
   "execution_count": 27,
   "metadata": {
    "pycharm": {
     "name": "#%%\n"
    }
   },
   "outputs": [],
   "source": [
    "my_dict = {\n",
    "    \"Hauptbahnhof\": [\"Leipziger Hbf.\", \"Hbf.\", \"CENTRALSTATION\", \"Hauptbahhof\"],\n",
    "    # \"öpnv\": [\"Linie 90\", \"straßenbahn/bus\", \"linie\", \"tram\", \"bus\", \"bahn\", \"nahverkehr\", \"nahverkehrstechnisch\", \"S3\", \"Straßenbahn 14\", \"Straßenbahn Linie 14\", \"Straßenbahn 1\", \"Öffis\", \"S-Bahn/Straßenbahn\", \"Straßenbahn Linie 16\"],\n",
    "    \"Völkerschlachtdenkmal\": [\"Völki\"],\n",
    "    # \"staete\": [\"Mainz\"],\n",
    "    \"Clara-Zetkin-Park\": [\"Clarapark\", \"Clara Park\", \"Clara-Zetkin\\\" city park\", \"Clara-Zetkin-Park befindetsich\"],\n",
    "    \"Markkleeberg See\": [],\n",
    "    \"Cospudener See\": [\"Cossi\"],\n",
    "    \"Rosental\": [],\n",
    "    \"Eisenbahnstraße\": [\"Eisi\" ],\n",
    "    \"Wilhelm-Leuschner Platz\": [\"Wilhelm-Leuschner-Platz läufst du\", \"Wilhelm-Leuchner\"],\n",
    "    \"Jahnallee\": [\"Jahnallee-Kampus\", \"Sport-Uni\", \"RedBull Arena\"],\n",
    "    \"universität leipzig\": [\"Uni Hauptgebäude\", \"MDR Turm\", \"Mensa\"],\n",
    "    \"Kulkwitzer\": [],\n",
    "    \"Lene-Voigt-Park\": [\"Lenepark\"],\n",
    "    \"universität leipzig\": [\"Zoo für Kulturprogramm\", \"Leipziger Zoo\"],\n",
    "    \"Bayrischer Bahnhof\": [\"DerBayrische Bahnhof\", \"Bayrische Bahnhof\"],\n",
    "    # \"Lebensmittel\": [\"Penny\", \"Norma\", \"Netto\", \"Rossman\", \"Edeka\", \"Aldi\", \"Konsum\"],\n",
    " }\n"
   ]
  },
  {
   "cell_type": "code",
   "execution_count": null,
   "metadata": {
    "pycharm": {
     "name": "#%%\n"
    }
   },
   "outputs": [],
   "source": [
    "# Überprüfen ob auch alle keys in clean_places vorkommen\n",
    "for key, value in my_dict.items():\n",
    "    clean_places[key]"
   ]
  },
  {
   "cell_type": "code",
   "execution_count": 28,
   "metadata": {
    "pycharm": {
     "name": "#%%\n"
    }
   },
   "outputs": [
    {
     "name": "stdout",
     "output_type": "stream",
     "text": [
      "True\n"
     ]
    }
   ],
   "source": [
    "import difflib\n",
    "\n",
    "def calculate_similarity(string1, string2):\n",
    "    similarity = difflib.SequenceMatcher(None, string1.lower(), string2.lower()).ratio()\n",
    "    return similarity\n",
    "\n",
    "def map_similarity(string1, string2, threshold=0.8):\n",
    "    similarity = calculate_similarity(string1, string2)\n",
    "    if similarity >= threshold:\n",
    "        return True\n",
    "    else:\n",
    "        return False\n",
    "\n",
    "# Beispielaufruf\n",
    "string1 = \"Karl Heine Straße\"\n",
    "string2 = \"Karl-Heine-Straße\"\n",
    "threshold = 0.8\n",
    "result = map_similarity(string1, string2, threshold)\n",
    "print(result)\n"
   ]
  },
  {
   "cell_type": "code",
   "execution_count": 29,
   "metadata": {
    "pycharm": {
     "name": "#%%\n"
    }
   },
   "outputs": [
    {
     "name": "stdout",
     "output_type": "stream",
     "text": [
      "Die Distanz zwischen den Koordinaten beträgt: (818.168717734293, 0.0012222417923399) Meter\n"
     ]
    }
   ],
   "source": [
    "def distance(lat1, lon1, lat2, lon2):\n",
    "    # Umrechnung in Bogenmaß\n",
    "    lat1_rad = math.radians(lat1)\n",
    "    lon1_rad = math.radians(lon1)\n",
    "    lat2_rad = math.radians(lat2)\n",
    "    lon2_rad = math.radians(lon2)\n",
    "\n",
    "    # Deltas der Koordinaten\n",
    "    delta_lat = lat2_rad - lat1_rad\n",
    "    delta_lon = lon2_rad - lon1_rad\n",
    "\n",
    "    # Haversine-Formel\n",
    "    a = math.sin(delta_lat/2)**2 + math.cos(lat1_rad) * math.cos(lat2_rad) * math.sin(delta_lon/2)**2\n",
    "    c = 2 * math.atan2(math.sqrt(a), math.sqrt(1-a))\n",
    "    \n",
    "    # Erdradius in Metern\n",
    "    radius = 6371000\n",
    "    \n",
    "    # Berechnung der Distanz\n",
    "    distance = radius * c\n",
    "\n",
    "    return distance, 1/distance if distance > 0 else 0.0\n",
    "\n",
    "# Beispielaufruf\n",
    "lat1 = 51.338904\n",
    "lon1 = 12.323058\n",
    "lat2 = 51.340012\n",
    "lon2 = 12.334702\n",
    "\n",
    "result = distance(lat1, lon1, lat2, lon2)\n",
    "print(\"Die Distanz zwischen den Koordinaten beträgt:\", result, \"Meter\")"
   ]
  },
  {
   "cell_type": "code",
   "execution_count": 31,
   "metadata": {
    "pycharm": {
     "name": "#%%\n"
    }
   },
   "outputs": [
    {
     "name": "stdout",
     "output_type": "stream",
     "text": [
      "1385 {'29J', 'Kolmstrasse', 'Paris', 'Linie 9', 'Argentinien', 'Gretha', 'HInterhaus', 'Tageslicht-Wannenbad', 'Schlittschuh Laufen', 'Draußen', 'Located directly on Waldstraße', 'Ärzte', 'Berlin', 'Minutenan', 'Wanda', 'Albertina', 'Niedersächsischen Heide', 'Sharepic-Sachen', 'Leipzig for two months', 'Dresdner Str.', 'HBF', 'Straßenbahn/', 'only two minutes walk to the tram', 'Pia', 'Griechenland', 'Moritz-Hof', 'Südwest-Ausrichtung', 'MDR Turm', 'Bad putzen', 'Herrmann-Liebmann', 'a great neighborhood', 'RedBull Arena', 'läufst du  5', 'Freindenspark', 'A cupboard', 'Credestraße', 'Leipzig Lößnig', 'Wurzner Straße', 'Holsteinstraße', 'Asien', 'Potsdam', 'Balfolk', 'Ghent', 'Latzo', 'Goerdlerring', 'Frieda', 'Lützner-Straße', 'Karlotta', 'Bremen', 'Kaos-Villa', 'Lindenaus', 'Lehnstühle', 'Buslinien 72', 'Dm', 'Ilyass', 'Herd', 'Leipzig lindenau', 'groceries Aldi', 'Stadthafen', 'Ramdohrscher Park', 'ÖPVN', 'There is a large green area right', 'the house is friendly and quiet', 'suuuuuuper', 'Zimba', 'Stadtlärm', 'nebenan', 'Markkleeeberg', 'Papiermühlenstrasse', 'Straßenbahnhof', 'schutzverglast', 'Niclas', 'DaF-/DaZ-Studium', 'Connewitz at Wiedebachpark', 'Hermann-Liebmann/Eisenbahnstraße', 'Köln', 'Lindas Garten', 'Laufnähe', 'And Auwald as well as Clara-Zetkin-Park', 'Bus', 'S1-Bahnhof', 'Bretti', 'Ausgehmeile Karl-Liebknecht-Straße', 'Tram-Station', 'Linie 1', 'essen', 'A38', 'Gute Anbindung', 'Kohlgartenstr', 'Leipziger Osten', 'Mensa', 'The house is located near the recreation area', 'Erholungsviertel Grünau', 'Bachviertel', 'Authvorstadt', 'Bus 89', 'whatever', 'Bahnhof Plagwitz', 'Straßenbahn 7', 'Billy-Regal', 'Hausnähe', 'Kühlschrankfach', 'Hauptmieterinnen', 'Fränkische Schweiz', 'Meeega', 'Elsa Park', 'läufst du 5 Minuten', 'Leipzig-Holzhausen', 'wunderschönen Leipzig', 'undman', 'Gründerzeithauses', 'Auspannen', 'Fusweg', 'Tram-Haltestelle', 'Grünau', 'Ansonstenist', 'Angerbrücke', 'Wohnung Platz', 'Lene-Voigt-', 'Auensee-Park', 'Bahnoder Rad', 'Grassi Museum Entspanntes Zusammenleben', 'Chiara', 'Lene Voigt-Park', 'Debbo', 'derClara-Park', 'Trash-Serien', 'Tischtenniskelle', 'LG  Ps', 'Sportbad an der Elster', 'Ramdorscher Park', 'Bernhardstr', 'Arthur-Bretschneider-Park', 'Hagen', 'Leipzig-Slevogtstraße', 'Reudnitzer', 'Zentrum', 'B Netto', 'Naturbad Nordost', 'the canal', 'Ostsee', 'Kulkwitzer See', 'Wohnungliegt', 'nicht-binär', 'Japan', 'Price', 'Kennenlerngespräche', 'Sbahnhof', 'Schönauer Strasse on the other side is a little louder', 'Karl-Heine-Park', 'Leopoldstraße', 'Balkon-Vibes', 'Mobil 2', 'Distille', 'The Palmengarten is not the only green space nearby: the Clara-Zetkin-Park', 'Ärtzehaus', 'Stein', 'Stuk', 'Merseburger', 'Drinnie-Energie-getriebene', 'Bibliothek Albertina', 'Singen', 'toom', 'Messestadt Leipzig', 'Beerpong-Turniere', 'Schalfzimmer', 'Nachbarschaftssituation', 'Melde', 'Süddeutschland', 'Joachim-Wach-Haus', 'Kurt-Eisner-Str./Karl-Liebknecht-Str', 'Ostheimstr', 'Jahrtausendfeld', 'Reichpietschstraße', 'Altes Messegelände', 'Botanische Garten', 'Ecke wo du das Allernötigste', 'Antifarap', 'Well-cut entrance area', 'Café Lux', 'Dönerladen', 'Richard-Wagner-Hain', 'Edelstahl-Spültisch', 'Home Office', 'Graffitiatzenlife', 'Albertina-Bibliothek', 'Pixy', 'WGs', 'Leioziger Osten', 'Duderstadt', 'Thüringer Wald', 'Kiez-Seele', 'Moritz', 'Platanenallee', 'there is a loft', 'Cityzum', 'Linie 10', 'Kulturstädten', 'Schwarzwaldes', 'The garden', 'Karl- Heine Straße', 'Ally', 'Parks', 'Leipzig', 'Kleine Icebreaker-Frage', 'Popcornmaschine', 'Johanna', 'Eisenbahnstrasse', 'LindenauerMarkt', 'basketball', 'Ansonstengibt', 'Szeneläden', 'Party&Raucher-Nogos', 'Kleingartenpark', 'Sitzpolstern', 'Rewe(4 Gehminuten', 'Tauschecke', 'Leipziger Hbf.', 'saniertenAltbaus', 'Germanistikmaster', 'Holbeinstraße', 'a large hallway', 'Mariannen Park', 'Uuuuund', 'Südvorstadt&Connewitz', 'Stralsund', 'Steinstraße', 'Bad', 'Rewe', 'Straßenseitig', 'Zentrum der Leipziger Südvorstadt', 'WG+ein', 'walk from', 'K.-Liebknecht-/K.-Eisner-Straße', 'Bahnhaltestellen Riebeck-/Oststraße', 'Energie-Verein-Full-Member-', 'Ostheimstraße', 'Körnerstr', 'billiardtempel', 'Dönerläden', 'Portugal', 'Wiedebachpark', 'Park chillen', 'Hähnchen-Grill', 'Tram stop', 'Warschau', 'Gentrifizierungshotspot', 'Absprach', 'Theodor-Heuss-Straße', 'Israel', 'Haushat', 'Kassel', 'Rackwitz', 'Friedi', 'Parks von Leipzig', 'rücksichtsvollem', 'Breuna', 'Sbahn', 'Doppeltüren-Kühlschrank', 'Neuen Messe', 'The Rosental', 'Stadt', 'Dh du kannst dich morgens', 'alsKünstler Treff', 'Bahnhof Leipzig-Sellerhausen', 'Chilliger Park', 'pick-nicken', 'Zentrum / Hauptbahnhof', 'S Bahn', 'Endersstraße', 'Vierer-WG', 'Michis', 'Rossmann', 'Zentrum Südost', 'Karl-Liebknecht./Kurt-Eisner-Str', 'Thekla-See', 'Johannisalle', 'S-Bahnhof Lindenau', 'Hause', 'Mittelalterfestivals', 'doing', 'ca.16', 'table-tennis', 'achtgibst', 'Großer Südbalkon', 'hbf', 'stehst', 'Eisenbahnstr', 'apartment building', 'Park Akroyoga', 'Zeit am liebsten', 'Echtholzboden', 'Eck findest du', 'Bzw', 'Focke-Berg', 'Henne', 'very close by', 'Doppelglasfenster', 'Tram 9,10,11', 'Leipzig-Reudnitz', 'Spowicampus', 'Bredouille', 'Grunau', 'Bus-', 'Wohnunghat', 'Dresdener Straße', 'lio', 'latenightshops', 'ruhige straße', 'shopping facilities such as Edeka and Aldi', 'Wohnungsebene', 'Möbiusplatz', 'Skincare-Routine!', 'Hoher Freizeitwert', 'waschsalons', 'Bremer', 'genial', 'du fix', 'Forro', 'Hauptunicampus', 'Dessau', 'through the park', 'Luka', 'Connewitz for a short time', 'bekommtman', 'Marokkanerin', '🚃', '4th floor', 'Einkaufen', 'Nachbarschaftsverhältnis', 'Lebenselexil', 'Australien', 'Naumburger Str.', 'from leipzighbf', 'contact', 'Mathe-Ersti', 'USA', 'Tram', 'Tram 8', 'Europa', 'Wellnessexperte', 'Weser', 'Linhs Zimmer', 'Hohe Straße', 'Nathalies Zimmer', 'Clara Park or the Karl-Heine Canal', '04315', 'the beautiful and central Waldstraßenviertel', 'Hof', 'Leneparks', 'Georg-Schwarz-Kiez', 'Georg-Schuhmann-/Lützowstraße', 'Prakrisht', 'nice wenn du', 'Auslandsjournal', 'Uni-Campus', 'Zentrumsnähe', 'Leipiziger', 'durchdie', 'Haus samt Grundstück', '<3  ', 'dormitories', 'Bülowviertel', 'Berlin at a school for children and young people with disabilities and then trained as a photographer', 'Neustadt-Neuschönfeld', 'Bahn-Haltestellen', 'Lebensbundprinzip Freundschaften', 'S-Bahnhaltestellen Coppiplatz', 'Penny', 'lieben', 'Leipzig-Seehausen', 'Koehlerstrasse', 'Spazierentfernung', 'ichsuche', 'TRAM-Linien 10', 'Südafrika', 'Elbsandsteingebirge', 'Johanna-Park', 'Reisefreund', 'Hochpatere', 'WTGs', 'Philipp-Rosenthal-Strasse', 'the Palmengarten', 'Mensaspaziergänge', 'Böhmestr', 'Arena ...', 'Clara- und Johanna-Park', 'Stötteritzer', 'sehrgern', 'The canal is within', 'Lindenau and are looking for a lovely', 'Reudnitz-Koehlerstraße', 'Lorenza', 'NETTO', 'Northwest of Leipzig downtown', 'Bölitz', 'Mieteverlängerung', 'Straßenbahnen Linie1', 'Bus/Tram', 'Saskia', 'derStraße', 'Straba', 'Studialter', '01.08.2023.', 'Schwarzwald', 'with the Plagwitz', 'Straße Straße', 'Feuertreppe', 'Bomann', 'Uniklinikum', 'Obsbaumpflegerin', 'Wintergartenhochhaus', 'Grünen am Rosental', 'Cora', 'DieWohnung', 'Friedrich-List-Platz', 'Bimmel', 'biking', 'Straßenbahn 14', 'Tarostraße', 'Magdeburg', 'Leipzig for 3 years now', 'the center of the west', 'Klassicher Altbau', 'Karl-Liebknecht Straße', 'länger).Supermarkt', '3. OG', '37qm²', 'Münzgasse', 'S-Bahnstation Nord', 'Deutschland', 'nem', 'mega schön reinscheint', 'Chaosmodus', 'schnell am see', 'Verdienstnachweis', 'Steinplatz', 'Baden auf dich', 'parks', 'a hallway', 'Schönefeld', 'Cossi', 'Rad', 'Schlafzimmerseite', 'Die Etage/', 'Vekehrsverbindungen', 'Voigt- Park', 'Buslinien 70', 'Privat', 'ineiner', 'Max-Liebermann-Str', 'Hauptbahnhof⚫️ Enfernt', 'laune', 'Bus 60', 'Gohlis  Post', 'tram line 3', 'Küchenbenutzungsgeräusche', 'Kiezlage', 'Memmes', 'Tram 10', 'Richard-Lehmann-Straße', 'Altlindenau is not a popular-cultural-live-hood', 'Weißer Elster', 'Straßenbahnen', 'Georg-Schwarz-Str', 'bakeries in the neighborhood', 'Seehausen', 'Blutspendeservice', 'Autobahn 14', 'Viet', 'Spanien', 'Portugal and Spain', 'West-Leipzig', 'Rabatt Park', 'is 10 minutes away', 'Austausches', 'Spiele-/Film-/Serienabende', 'Mini-Parkanlagen', 'Hermann-Meyer-Str', 'Täubchenweg', 'London', 'Karl-Haine', 'Johannes-R.-Becher Straße', 'Unfortunately', 'Russland', 'pandemiebedingt', 'daytime', 'Denns', 'Uns', 'Restaurantsund', \"Michi's\", 'Altbautreppenhaus', 'Südostasien', 'Zweit-Bad', 'Brüderstraße', 'the dormitory', 'Ost', 'Hanane', 'Westwerk', 'Niederlande', 'Rosental Park', 'Vicis', 'Zentralamerika', 'Altlindenau and the famous Karl-Heine-Straße', 'Hauptbahnhofes', 'Kleintzschocher', 'Mdr', 'Zen Lab', 'DieStraßenbahnhaltestelle', 'daman', 'Odessa', 'bist du', 'plenum', 'Frei', 'Macker', 'Hochpaterre', 'close by and you can have nice long walks', 'Mitbewohner*in', 'Buslinien', 'the main station', 'HTWK', 'Straßenbahn', 'Böhrlau', 'Möckernschen', 'Although the central location', 'Wurzner Str', 'Vermietungszeitraum', 'Zockerhöhle', 'Ihrkennt', 'Verbindungszimmer', 'Esszimmerküche', 'Shopping', 'S-bahn Gleisen', '!  ', 'Chausseehaus', 'Wiederritzscher Straße', 'haltestellen lindenauer markt', 'Hildebrandstraße', 'Du', 'Gemeinschaftshof', 'Lene-Voigt Parks', 'Bus 65', 'Allegemein', 'Wien', 'Fichtestraße', 'Alt-West', 'Island', 'Bornaischen', 'Köhlerstraße', 'Meißner Straße', 'Neapel', 'lots of cafes', 'rumlümmeln', 'Stadt Halle', 'Gholis Arkaden', 'Kennenlern-Phase', 'Disko', 'Kukwitzersee', 'Henriettenpark', 'Annenstraße', 'https://www.studentenwerk-leipzig.de/wohnen/studentenwohnheime/nuernberger-strasse-42-48-bruederstrasse-26', '1. OG', 'Cospudener Badesee', 'Bundestrasse B2', 'Credéstraße', 'Bayerischer Bahnhof', 'Zwanzig', 'Connewitzer', 'Party-People', 'Mexiko', 'Fußentfernt', '🏻\\u200d', 'Egal wohin kommst du gut mitden', 'lindenauer markt', 'Sachsenpark Leipzig', 'Wideritzscher-Straße', 'Arsch', 'Chilly', 'Adler', 'Leipzig HBF', 'Olbrichtstraße', 'Bull', 'z. B.', 'Beiden', 'Elfenbeinküste', 'Stallbaumstraße', 'Fynn', 'Schweden', 'Madrid', 'Burgerladen', 'Steffi', 'Next to the Pleiße and Weißen Elster you', 'Mitder Bahn', 'Innenstadtin', 'Studentenwohnheim Straße', 'Stadt/', 'Paunsdorf', 'spatestens', 'Clara-Zetkin Park and Johannapark', 'sich2 minuten', 'Einterstraße', 'Charlotte', 'Medizincampus', 'Waldnähe', 'Chile', 'Leipzig Volkmarsdorf', 'DasHaus', 'Gent', 'Schräg', 'Grilloption', 'Waldfrieden', 'Feiermöglichkeiten', 'Boulder-', 'MDR', 'ErdgeschossAlle Räume', 'M-V', 'Cospundersee', 'Mitbewohner-Wechsel', 'Netto-Discount', 'The Karl-Heine canal is only 5 minutes away for a walk and the old spinning mill', 'Sanierter Altbau', 'Elsterflutbecken', 'Tram fährr', 'Napolitanapizza', 'Tramlinie 4', 'Wendest du dich', 'Karl -Heine Str.', 'Straßen-& S-Bahn', 'Saale', 'Dresden', 'Key-Account-Managerin', 'Naturzu', 'Wohnungsnah', 'dieInnenstadt', 'Meyerschen', 'Wolfgang-Heinze-Straße', 'is just', 'MenschenKurze', 'Linie 4', 'Auenwaldentfernt', 'Thekla am See', 'Prag', 'kaufland', 'echt super!', 'Bus/', 'Auenwald', 'S-Bahn', 'Café Kater', 'Kurt-Eisner', 'Marianne', 'Clarapark', 'each', 'Bahnhof', 'Ärker', '2. Bad', 'Wurznerstr./Dresdnerstr', 'Leibnizstr', 'bewusstloser Trunkenheit', 'Kalimera!', 'Naundorfer', 'ner Kippe aufm Balkon', 'Einsteig', 'Hauptbahnhof Leipzig', 'bars', 'allein-sein', 'Allee- Center', 'Ggf', 'Studenten-Wohnheim', 'Tram-', 'Energietanken', 'Ichbin', 'ikea-seat', 'dir', 'Parknähe', 'Leibnitzstraße', 'Normales Bad', 'Markkleeberger', 'Stünzer Parks', 'Nonnenstraßein', 'Markkleeberger See!!!', 'Mate-Addict', 'The city center can be reached on foot', 'Nürni', 'Eisenbahnstraßen-Kiez', 'augustusplatz', 'Tram 1', 'Lené Promenadé', 'Bars', 'Wilhelm-Külz-Park', 'BESTER', 'Leipzig West', 'B.Wir', 'Nagelneuer Aldi', 'swimming', 'S2', 'Elly', 'Cospudener  See', 'Brandau', 'swimming or climbing', 'Süd-Fenster', 'Breslauer', 'S-Bahnhöfe Leipzig-Möckern', 'WG-gesucht', 'Lützner-/Merseburger Str.', 'allotment garden', '90m2', 'Chemnitz', 'Leipziger Seenlandschaft', 'West', 'Maxim', 'grad', 'Meusdorf', 'Cospudener', 'Leipziger Innenstadt', 'Kleingarten', 'Antwortsengpässen', 'Yogyakarte', 'Leipzig for almost 2', 'light-flooded', 'Eierlegendewollmilchsau', 'Essenmöglichkeiten', 'Neulindenau', 'Mitbewohnis', 'Baden im Seeverbinden', 'Rosental-Park', 'Brasilien', 'Bordeaux', 'Ofen', 'City', 'Dresdnerstr', 'ne Dusch-Badewanne', 'Motaz', 'adolescent psychiatry', 'Buslinie 90', 'A', 'The apartment is located', 'Nadia', 'lust', 'Reudi', 'Neukölln', 'Salzmannstraßeist', 'Kiezstraße', 'Tram line 3', 'hippen Karl-Heine-Straße', 'Elsapark', 'Parkboden Ost', 'Brandenburgs', 'Weißer Elster undClara-Zetkin Park', 'grünen Hinterhof', 'town', 'Bundesstraßen 2', 'Dresdener Str.', 'Lieblingsmöbelstücke', 'karl-heine-straße', 'Lene-Voigt Park', 'Leipzig can be reached quickly because of the good public transport connection', 'Schkeuditz', 'Hauptbahhof', 'Georg-Schwarz-/Merseburger-Str', 'Südwest', 'Halben Treppe', 'Volkspark Kleinzschocher', 'Wiebelstraße', 'Hetbst', 'between the lake Cospuden and the beautiful and lonely lake Zwenkau', 'Westausrichtung', 'Haus!', 'Essen', 'Industriestraße', 'Bube', 'Anja', 'Linie 16', 'Fahrrad-Stellplatz', 'Leipziger Auwald', 'Ephraim', 'Veranstaltungstechnick', 'Gottschedstraße', 'aufdie', 'Reudnitzer Kiez', 'Tambien hablo español más o menos fluido y me', 'Asisa-Laden', 'Drahtesel', 'Duncker-Viertel', '3. Obergeschoss', 'Sauberkeitsbedürfnissen', 'Leutzsch', 'Zypern', 'Straßengeräusche', 'Falls du Lust', 'Straßenbahnlinien', 'Kanalzugang', 'Autobahnabfahrten Leipzig-Mitte', 'ungf 4min', 'Georg-Schwarz and Merseburger Str. are also only 10 minutes away by bike for delicious food', 'Brandstraße', 'Blähwitz', 'Imbissgeschäfte', 'S-', 'somiz', 'Ghentschreiben', 'Arndtstraße', 'Volkspark', 'Juli-Woche', 'Abtnauendorferpark', 'Kenia', 'Bad und du die Küche', 'Leipziger Südvorstadt', 'Karl-Liebknecht-Straße offers lot of bar and pubs', 'Georg-Schuhmann-Straße', 'Krautnudeln', 'Leutzscher', 'Energiekostenerhöhungen', 'Gäste-/Abstellraum', 'Verdunklungsrollos', 'Richard-Lehmann', 'MockauNord', 'leutzscher aue', 'Treppenpodest', 'galleries', 'sachsen brücke', 'https://www.smartments-student.de/standorte/leipzig-joachim-wach-haus', 'hauptbahnhof', 'Polen', 'Hinterhof', 'Dusche&Badewanne', 'Borcha', 'Gitter an der Wand', 'N3', 'Schwarzestraße', 'Bad  Die Leipziger Südvorstadt', 'streetlife', 'Alten Messe', 'Lipsiusstr', 'Volkspark Kleinzschocher/', 'Brächswitz', 'S-Bahn Haltestelle', 'Einkaufsmöglchkeiten', 'Halle 14', 'Neustandt-Neuschönefeld', 'Much Love', 'Theklaer See', 'EBK', 'liegtim', 'lidl', 'Zschocherschen Straße', 'Straßenbahn 4', 'S-Bahnhof Bayerischer Bahnhof', 'Nike', 'Theater/', 'amAugustusplatz', 'Bayern', 'Cafe dingdong', 'Bastelprojekten', 'W-Lanin', 'Bio-Laden', 'Freiburg', 'biomarkt', 'Linie 3', 'Stadtteilpark Rabet', 'Mainz', 'lützner', 'Uniklinik', 'rausmüssen', 'Fußnähe', 'findest', 'Tram Station 2Min', 'October', 'landlord', 'Osten-Süden-Westen', 'Kotti', 'Indonesien', 'Peters Pub', 'Martinstraße', 'Hausgruppe', 'Kollektivmitglied', 'Paunsdorfcenter', 'Munich', 'Klara-Zetkin-Park', 'S-Bahn-Station', 'Innsbruck', 'Schöner Leipziger Altbau', 'B2', 'Stünzerpark', '2. OG', 'Erholungspark Lößnig-Dölitz', 'Höhe Südplatz', 'DerBayrische Bahnhof', 'Vienna', 'Bib', 'Citynah', 'Lene-Voigt-Parkist', 'Straße raus', 'Johannapark and the beautiful Auwald', 'N8', 'Zittauer Zoo', 'Polarstern', 'fantastisch', 'there are many nice pubs and bars as well as restaurants and cafes', 'Erdinger', 'Straße rausgeht', 'Mittweida', 'Botanischen Garten', 'Lutherstraße 16', 'Republik', 'Parks Leipzig', 'Speti', '1. Bad', 'Kurt-Günther-Straße', 'Hellooo', 'Netto', 'Reudnitz City', 'Straßenbahn bist du', 'Tür  Arthur-Brettschneider-Park', 'Karl-Liebknecht-Str', 'Terassenzugang', 'Denkmalschutzes', 'Lindenau Bushof', 'Kapellenstraße', 'Küfas', 'Sonstiges', 'straße raus', 'Our apartment is located very centerally with Kaufland', 'Elsterflutbett', 'Angerbrücke Straßenbahn', 'Viktoriastraße', 'Großmannstraße', 'kiosks', 'Studentenherz', 'Frankreich', 'Zoofenster', 'Zeit am See', 'Flöhle', 'Nebenkostenvorauszahlung', 'liegenrundherum', 'Rosentalpark', 'Göhlis', 'our hallway', 'Comdyverhaltens', 'eisi', 'Georg-Schumann-', 'Kurdistan-Rojava', '️Es', 'Eisioder Lene-Park', 'UK', 'Hipsterbrücke', 'Oststraße', 'Wildschweingehege', 'super', 'Hauptbahnhof bist  du', 'Vietnamesen', 'Lübeck', 'Map Wurzen', 'Alt-Lindenau', 'Clara', 'Red Bull Arena', 'Baueshof', 'Bornaische Straße', 'vonhier', 'Sichtweite Lust', 'Mitbewohni!', 'Hohe Str.', 'the entrance', 'Reichsstraße', 'Straßenbahnhaltestelle', 'cornern', 'Nachttram', 'Beerpong', 'Bobo', 'on ground floor', 'Leipzig-Paunsdorf', 'read', 'Cafe', 'Leipzig- Knauthain', 'Dölitz-Dösen', 'hallenbad', 'both places from time to time in', 'Hofmeisterstraße', 'kompeltt', 'Brettschneiderpark', 'Waschmaschinenanschluß', 'Auchper Bike bist du', 'Parallelstraße', 'Clara-Zetktin Park', 'Musikproberaum', 'Szene-Pub', 'Stanne', 'Lauf', 'Alleinewohnens', 'Barrierefreien Eingang', 'Tram-Haltestellen', 'penny', 'Trago', 'Dresdner-', 'WE', 'Tanzzentrale', 'Ravepunk', 'Arthur-Hoffmann', 'Gutenbergplatz', 'Dachschrägen', 'rumbasteln', 'Chateau Ostplatz', 'Sylt', 'Späti', 'Pflegeheims', 'Döner-Läden', 'Nils', 'Konradstr', 'the stairwy which is alread pretty full of my stuff', 'Straßenlärm bekommst du', 'Mietkonto', 'Reudnitzcenter', 'direktam Kanal', 'Italien', 'Innenhof', 'supermarkets', 'baden', 'Clara Zetkin Park', 'Yuppie-Herz', 'Lützowstr', 'Karl-Lieblknecht-Straße', 'Kostenbei', 'Altbauhaus', 'Waldsee', 'a big park', 'Leibnizstraße', 'merseburger straße', 'Zentrum/Hauptbahnhof', 'Abtnaudndorfer Wäldchen', 'Südamerika', 'Taiwan', 'dining room', 'Lyon', 'Tramlinie 15', 'the bathroom', 'Boulderhallen', 'A14', 'Dreiseitenhof', 'Connewitz vor der Tür', 'district - with lots of cafés', 'WG-LebenEin', 'Leipziger Zoo', 'Erfurt', 'Südost-Ausrichtung', 'Elsastraße', 'Kleine Luppe', 'Alina', 'with 2', 'Kosmos Boulderhalle', 'west', 'lindenauermarkt', 'Nord-', 'Borna', 'Moritzhof', 'Naumburger Str', 'Lindenauer Bushof', 'Abdulmalek', 'Leipziger Stadtzentrums', 'Cospudener-', 'Cossi is', 'Nebenkosten-Vorauszahlung', 'Abschlagsgebühr', 'Altbauvilla', 'Roots', 'PIzzaservice', 'Vertragsbschluss', 'Designbelagsboden', 'Mers', 'Fischgrätenparkett', 'anti-semitic', 'Mockau-Nord', 'Wlanrouter', 'Lars', 'Plagwtizer', 'leipzig', 'Städtische Klinikum St. Georg', 'Ca', 'Plagwitz district', 'Anka', 'Stadt Leipzig', 'two bathrooms', 'Citytunnel', 'where the bus 74', 'esbei', 'Schicht-Dienst', 'Albanien', 'Lumi', 'Gartenmitbenutzung', 'Aldi', 'Arthur-Brettschneider-Park', 'Miami Beach', 'Augustusplatzist', 'Prenzlauer-Berg-Gefühl', 'eRoller', 'Mendelssohn-Haus', 'Afrikas', 'Bad hast du dein', 'Umgebunggibt', 'Acht', 'Hörsaal', 'bist', 'Du befindest dich', 'Dresdner', 'Schauburg', 'direktam', 'Ruhige Hausgemeinschaft', 'Schladitzer Bucht', 'RB-Stadion', 'bavaria', 'Wannenbad', 'Hermann-Liebmannstraße', 'Bus 70', 'Tramlinien', 'Antonien- und Zschocherscher Straße', 'Bolivien', 'Straba-Stationen', 'Alte Straße', 'Schöne', 'Leipziger Volkspark', 'Braunkohletagebau rumtreiben', '01.09.2023  Die von dir', 'The canteen at the Botanical Garden of the Studentenwerk', 'Philly', 'Clara-Zetkin-Park befindetsich', 'Lene-Voigtpark', 'Hannover', 'Sachsen-Anhalt', 'Ilses Erika', 'Haus rauchen', 'Wikingerschach', 'Gottschedstr', 'Einziehen könntest du', 'mega', 'Holzdielen-Laminat', 'Köhlerstr', 'Stückchen Garten', 'Südplagwitz', 'Holbeinstrasse', 'undRestaurants', '‚Stieglitzstraße', 'Flughafen Leipzig', 'a 65m² flat with 2', 'S-Bahnlinien', 'Elsterkanal', 'Waldstrassenviertel', 'close to Karl-Heine-Straße', 'Carolina', 'S1', 'beisammensitzen', 'südvorstadt', 'Felesnkeller', 'Unterhaltungsmöglicheiten', 'gegeseitigen', 'weiße Elster', 'Sasel', 'Zwei-Zimmer Wohnung', 'Nichtraucher-Apartments', 'Radstreifen', 'Leipzig for 13 years', 'Bus 74', 'findest du', 'Athen', 'Bayerischer Bhf', 'Wg-Lebens', 'older building', 'Ocka-caffee', 'säufst', 'mariannenwg', 'stresse', 'Leipziger Hauptbahnhof', 'Sportpark', 'Zwischen-Zukunftsfindung-Phase', 'Stöckelstraße', 'Ilka', 'Hit-Supermarkt', 'a mensa', 'Vormieter*innen', 'Brio-Eisenbahn', 'Trambahnen 9', 'Könneritzbücke', 'Maschi', 'China', 'Endersstr', 'Zoo Leipzig', 'Dimpfelstraße', 'Kauflandsind', 'Bahnl', 'Sport-Uni', 'S-Bahnhof Anger-Crottendorf', 'einziehst', 'Gründerzeithäusern', 'Gehentfernung', 'DER Straße für Bars und Hotspots', 'Straße', 'Erim', 'Greifswald', 'Wunderschöne Sonnenuntergänge', 'Physik-Genie', 'Allgäu', 'Mailand', 'Laufdistanz', 'rumturne', 'Bar', 'Öffis', 'Mensaria', 'Mindestwohndauer', 'Dönerbude', 'Georg-Schwarz', 'Plagwitzer Bahnhof', 'supermarket', 'Riiieesen-Balkon', 'Besichtigungenwären', 'Wildpark', 'Berliner Görlitz-Park', 'Till', 'Platz', 'the stucco street', 'Wilhem-Liebknecht-Platz', 'Zentrum oderin', 'Spikeball', 'Gohlis- Arkaden', 'In10', 'Kührschrank', 'Südens', 'Gohliser Arkaden', 'Bochhwollschlitz', 'Perthesstraße', 'Lidvina', 'Mülltrennen', 'Blutspendezentrum', 'Clara-park', 'Bayrischen Bahnhof', 'Hainstraße', 'Rabetpark', 'WE leg', 'Straßenbahn 15', 'Breite Straße', 'Bayrischer Bhf.', 'Wg-Leben', 'Eisi', 'Basketballkorb', 'und15', 'Lene-Vogt-Parkts', 'Anne', 'Kanada', 'WG-Mitbewohner sindSophia', 'Ikea-Sessel', 'San', 'Markleeberger See', 'walk away', 'Schweiz', 'Alten Messegelände', 'total', 'Zentrums', 'S-Bahn-Station Lpz.-Ost', 'Mieter*innenwechsel', 'nochvier', 'unsere*n vorrübergehende*n Mitbewohner*in', 'Zummer', 'Schleichwege', 'Flughafen', 'Ramen-Restaurants', 'Zooschaufenster', 'the Friedenspark', 'Florida', 'Markkleeberger See', 'Pole Dance Studio', 'Meditationszentrum', 'original-schwarz', 'Villa Carola', 'Simildenstraße', 'cool bookshops', 'Naturbad Neuost', 'Thekla See', 'Cospudener Strand-', 'Stockholm', 'Felsenkeller', 'Hallo liebe WG-Interessierte', 'Schaubühne Lindenfels', 'Flohmarkthopping', 'original-black', 'Halle/Saale', 'Südwest-Richtung', 'Uniklinikund', 'Paunsdorf-Center', 'Bio Mare', 'Schwemme', 'laufnähe', 'S-Bahnhöfe', 'Süd verbindetdich', 'Riemannstraße', 'Schönefeld-Abtnauendorf', 'Gebietszentrum', 'Straba-Haltestellen', 'Studi-Partys', 'Ost ob West', 'W Balkon', 'Mitteldeutschlands', 'Eisladen', 'Leipziger Nahverkehrsnetz', 'Denkmalfassade', 'Laufen', 'S-Bahnhof', 'Laufentfernung', 'Merseburger Str.', 'Landsberger Str.', 'Riebeck-/Oststraße', 'Jura', 'Georg-Schwarz-Straße', 'Schaza', 'rock climbing', 'Kseniya', 'uns :)', 'Dresdner Straße', 'S-Bahn Station', 'Friendz', 'S-Bahnhof Gohlis', 'Schönauer Park', 'Palmengarten & Clara Park', 'Hauptzimmer', 'Spaniensein', 'Lane', 'Sachsen', 'absorbed', 'Halle', 'Kulkwitzer-See', 'S-Bahnstation Gohlis', 'Möckern', 'Riebeckbrücke', 'schöne Friedenspark', 'Wilhelm-Leuschner-Platz(3', 'Design-Studentin', 'Hinterhofs', 'Einsebahnstraße', 'Qamar', 'Georg-Schumann', 'Prager Straße', 'Hochpark', 'ner', 'looking for a flatmate who is outgoing', 'Nürnberger Straße', 'Sterni-Brauerei', 'Indien', 'Bornaischen Straße', 'Jimmy-Orpheus', 'tram station', 'Knick', 'Neustädter', 'Zest', 'Lenepark', 'Wikingerschach/', 'bathroom', 'it is very quiet', 'only steps away from', 'wordurch', 'Leipziger See', 'chiller am See', 'WoZi-Küche', 'Columbien', 'Badwanne', 'Rooobert', 'G', 'Sbahn-Station MDR', 'Bodensee', 'Nebenkostenpauschale', 'Hotelcharakter', 'Schreibtisch-mäßig', 'Kulki', 'Kippenbergstraße', 'Balkonseite', 'Plagwitzer Bahnhofs', 'Zentrum-West', 'zumHauptbahnhof', 'Wohnungbietet', 'coole Spazierstrecken', 'Kiez', 'Tram Station', 'Sirin', 'Georg-Schwarz Straße', 'Volleyballfelder', 'Leipzig-Ost', 'Grenoble', 'O für WG-Harmonie', 'Lindenthaler Straße', 'Hinterhof-Südseite', 'Lippen'}\n"
     ]
    },
    {
     "data": {
      "text/html": [
       "<div>\n",
       "<style scoped>\n",
       "    .dataframe tbody tr th:only-of-type {\n",
       "        vertical-align: middle;\n",
       "    }\n",
       "\n",
       "    .dataframe tbody tr th {\n",
       "        vertical-align: top;\n",
       "    }\n",
       "\n",
       "    .dataframe thead th {\n",
       "        text-align: right;\n",
       "    }\n",
       "</style>\n",
       "<table border=\"1\" class=\"dataframe\">\n",
       "  <thead>\n",
       "    <tr style=\"text-align: right;\">\n",
       "      <th></th>\n",
       "      <th>name</th>\n",
       "      <th>from_lat</th>\n",
       "      <th>from_lon</th>\n",
       "      <th>to_lat</th>\n",
       "      <th>to_lon</th>\n",
       "      <th>free_from</th>\n",
       "      <th>distance</th>\n",
       "      <th>reverse_distance</th>\n",
       "    </tr>\n",
       "  </thead>\n",
       "  <tbody>\n",
       "    <tr>\n",
       "      <th>0</th>\n",
       "      <td>Plagwitz</td>\n",
       "      <td>51.326810</td>\n",
       "      <td>12.325284</td>\n",
       "      <td>51.328199</td>\n",
       "      <td>12.338300</td>\n",
       "      <td>2023-09-01 00:00:32</td>\n",
       "      <td>917.464884</td>\n",
       "      <td>0.001090</td>\n",
       "    </tr>\n",
       "    <tr>\n",
       "      <th>1</th>\n",
       "      <td>Gohlis</td>\n",
       "      <td>51.364652</td>\n",
       "      <td>12.360325</td>\n",
       "      <td>51.367060</td>\n",
       "      <td>12.376673</td>\n",
       "      <td>2023-07-01 00:00:32</td>\n",
       "      <td>1166.113810</td>\n",
       "      <td>0.000858</td>\n",
       "    </tr>\n",
       "    <tr>\n",
       "      <th>2</th>\n",
       "      <td>Karl-Heine-Straße</td>\n",
       "      <td>51.325779</td>\n",
       "      <td>12.327418</td>\n",
       "      <td>51.332158</td>\n",
       "      <td>12.348740</td>\n",
       "      <td>2023-08-01 00:00:32</td>\n",
       "      <td>1642.531082</td>\n",
       "      <td>0.000609</td>\n",
       "    </tr>\n",
       "    <tr>\n",
       "      <th>3</th>\n",
       "      <td>Clara-Zetkin-Park</td>\n",
       "      <td>51.321475</td>\n",
       "      <td>12.339788</td>\n",
       "      <td>51.330505</td>\n",
       "      <td>12.358851</td>\n",
       "      <td>2023-09-01 00:00:32</td>\n",
       "      <td>1662.168035</td>\n",
       "      <td>0.000602</td>\n",
       "    </tr>\n",
       "    <tr>\n",
       "      <th>4</th>\n",
       "      <td>Küchenholz</td>\n",
       "      <td>51.321475</td>\n",
       "      <td>12.339788</td>\n",
       "      <td>51.304778</td>\n",
       "      <td>12.337883</td>\n",
       "      <td>2023-09-01 00:00:32</td>\n",
       "      <td>1861.380804</td>\n",
       "      <td>0.000537</td>\n",
       "    </tr>\n",
       "    <tr>\n",
       "      <th>...</th>\n",
       "      <td>...</td>\n",
       "      <td>...</td>\n",
       "      <td>...</td>\n",
       "      <td>...</td>\n",
       "      <td>...</td>\n",
       "      <td>...</td>\n",
       "      <td>...</td>\n",
       "      <td>...</td>\n",
       "    </tr>\n",
       "    <tr>\n",
       "      <th>1272</th>\n",
       "      <td>Clara-Park</td>\n",
       "      <td>51.322204</td>\n",
       "      <td>12.367438</td>\n",
       "      <td>51.330505</td>\n",
       "      <td>12.358851</td>\n",
       "      <td>2023-09-01 00:00:32</td>\n",
       "      <td>1099.086932</td>\n",
       "      <td>0.000910</td>\n",
       "    </tr>\n",
       "    <tr>\n",
       "      <th>1273</th>\n",
       "      <td>Kolonnadenviertel</td>\n",
       "      <td>51.337929</td>\n",
       "      <td>12.364272</td>\n",
       "      <td>51.337856</td>\n",
       "      <td>12.365410</td>\n",
       "      <td>2023-08-01 00:00:32</td>\n",
       "      <td>79.444193</td>\n",
       "      <td>0.012587</td>\n",
       "    </tr>\n",
       "    <tr>\n",
       "      <th>1274</th>\n",
       "      <td>Johannapark</td>\n",
       "      <td>51.337929</td>\n",
       "      <td>12.364272</td>\n",
       "      <td>51.334636</td>\n",
       "      <td>12.363067</td>\n",
       "      <td>2023-08-01 00:00:32</td>\n",
       "      <td>375.602955</td>\n",
       "      <td>0.002662</td>\n",
       "    </tr>\n",
       "    <tr>\n",
       "      <th>1275</th>\n",
       "      <td>Rosental</td>\n",
       "      <td>51.345426</td>\n",
       "      <td>12.369663</td>\n",
       "      <td>51.349993</td>\n",
       "      <td>12.363226</td>\n",
       "      <td>2023-07-01 00:00:32</td>\n",
       "      <td>676.553433</td>\n",
       "      <td>0.001478</td>\n",
       "    </tr>\n",
       "    <tr>\n",
       "      <th>1276</th>\n",
       "      <td>Gohlis</td>\n",
       "      <td>51.356845</td>\n",
       "      <td>12.369520</td>\n",
       "      <td>51.367060</td>\n",
       "      <td>12.376673</td>\n",
       "      <td>2023-07-01 00:00:32</td>\n",
       "      <td>1239.720566</td>\n",
       "      <td>0.000807</td>\n",
       "    </tr>\n",
       "  </tbody>\n",
       "</table>\n",
       "<p>1277 rows × 8 columns</p>\n",
       "</div>"
      ],
      "text/plain": [
       "                   name   from_lat   from_lon     to_lat     to_lon   \n",
       "0              Plagwitz  51.326810  12.325284  51.328199  12.338300  \\\n",
       "1                Gohlis  51.364652  12.360325  51.367060  12.376673   \n",
       "2     Karl-Heine-Straße  51.325779  12.327418  51.332158  12.348740   \n",
       "3     Clara-Zetkin-Park  51.321475  12.339788  51.330505  12.358851   \n",
       "4            Küchenholz  51.321475  12.339788  51.304778  12.337883   \n",
       "...                 ...        ...        ...        ...        ...   \n",
       "1272         Clara-Park  51.322204  12.367438  51.330505  12.358851   \n",
       "1273  Kolonnadenviertel  51.337929  12.364272  51.337856  12.365410   \n",
       "1274        Johannapark  51.337929  12.364272  51.334636  12.363067   \n",
       "1275           Rosental  51.345426  12.369663  51.349993  12.363226   \n",
       "1276             Gohlis  51.356845  12.369520  51.367060  12.376673   \n",
       "\n",
       "               free_from     distance  reverse_distance  \n",
       "0    2023-09-01 00:00:32   917.464884          0.001090  \n",
       "1    2023-07-01 00:00:32  1166.113810          0.000858  \n",
       "2    2023-08-01 00:00:32  1642.531082          0.000609  \n",
       "3    2023-09-01 00:00:32  1662.168035          0.000602  \n",
       "4    2023-09-01 00:00:32  1861.380804          0.000537  \n",
       "...                  ...          ...               ...  \n",
       "1272 2023-09-01 00:00:32  1099.086932          0.000910  \n",
       "1273 2023-08-01 00:00:32    79.444193          0.012587  \n",
       "1274 2023-08-01 00:00:32   375.602955          0.002662  \n",
       "1275 2023-07-01 00:00:32   676.553433          0.001478  \n",
       "1276 2023-07-01 00:00:32  1239.720566          0.000807  \n",
       "\n",
       "[1277 rows x 8 columns]"
      ]
     },
     "execution_count": 31,
     "metadata": {},
     "output_type": "execute_result"
    }
   ],
   "source": [
    "arc_data = []\n",
    "unknown_places = []\n",
    "for idx, row in df.iterrows():\n",
    "    places: List = row[\"places\"]\n",
    "    if row[\"latitude\"] > 52 or row[\"latitude\"] < 50:\n",
    "      continue\n",
    "    for place in places:\n",
    "      if place in clean_places.keys():\n",
    "        d, rd = distance(row[\"latitude\"], row[\"longitude\"], clean_places[place][\"lat\"], clean_places[place][\"lon\"])\n",
    "        arc_data.append({\n",
    "                \"name\": place,\n",
    "                \"from_lat\": row[\"latitude\"],\n",
    "                \"from_lon\": row[\"longitude\"],\n",
    "                \"to_lat\": clean_places[place][\"lat\"],\n",
    "                \"to_lon\": clean_places[place][\"lon\"],\n",
    "                \"free_from\": row[\"free_from\"],\n",
    "                \"distance\": d,\n",
    "                \"reverse_distance\": rd\n",
    "        })\n",
    "      else:\n",
    "        for key, value in my_dict.items():\n",
    "          if place in value:\n",
    "            d, rd = distance(row[\"latitude\"], row[\"longitude\"], clean_places[key][\"lat\"], clean_places[key][\"lon\"])\n",
    "            arc_data.append({\n",
    "                \"name\": key,\n",
    "                \"from_lat\": row[\"latitude\"],\n",
    "                \"from_lon\": row[\"longitude\"],\n",
    "                \"to_lat\": clean_places[key][\"lat\"],\n",
    "                \"to_lon\": clean_places[key][\"lon\"],\n",
    "                \"free_from\": row[\"free_from\"], \n",
    "                \"distance\": d,\n",
    "                \"reverse_distance\": rd\n",
    "            })\n",
    "          elif any([map_similarity(place, v) for v in value]):\n",
    "            d, rd = distance(row[\"latitude\"], row[\"longitude\"], clean_places[key][\"lat\"], clean_places[key][\"lon\"])\n",
    "            arc_data.append({\n",
    "                \"name\": key,\n",
    "                \"from_lat\": row[\"latitude\"],\n",
    "                \"from_lon\": row[\"longitude\"],\n",
    "                \"to_lat\": clean_places[key][\"lat\"],\n",
    "                \"to_lon\": clean_places[key][\"lon\"],\n",
    "                \"free_from\": row[\"free_from\"],\n",
    "                \"distance\": d,\n",
    "                \"reverse_distance\": rd\n",
    "            })\n",
    "          else:\n",
    "            unknown_places.append(place)\n",
    "unknown_places = set(unknown_places)\n",
    "print(len(unknown_places), unknown_places)\n",
    "arc_df = pd.DataFrame(data=arc_data)\n",
    "arc_df"
   ]
  },
  {
   "cell_type": "markdown",
   "metadata": {
    "pycharm": {
     "name": "#%% md\n"
    }
   },
   "source": [
    "## Gender Sprache analysieren"
   ]
  },
  {
   "cell_type": "code",
   "execution_count": 32,
   "metadata": {
    "pycharm": {
     "name": "#%%\n"
    }
   },
   "outputs": [],
   "source": [
    "def extract_gender_usage(text: str) -> Tuple[int, List[str], int, List[str], int, List[str]]:\n",
    "    # Apply spaCy NLP pipeline to the text\n",
    "    doc = nlp(text)\n",
    "\n",
    "    # Extract male pronouns\n",
    "    male_pronouns = [\n",
    "        token.text for token in doc\n",
    "        if token.pos_ == \"PRON\"\n",
    "        and token.text.lower() in [\"er\", \"ihn\", \"ihm\", \"sein\", \"seiner\", \"seinen\", \"seines\", \"dessen\", \"derjenige\", \"derjenige, der\", \"der\", \"seinerseits\"]\n",
    "   ]\n",
    "\n",
    "    # Extract female pronouns\n",
    "    female_pronouns = [\n",
    "        token.text for token in doc\n",
    "        if token.pos_ == \"PRON\"\n",
    "        and token.text.lower() in [\"sie\", \"ihr\", \"sie\", \"ihre\", \"ihrer\", \"ihren\", \"ihres\", \"deren\", \"diejenige\", \"diejenige, die\", \"die\", \"ihrerseits\"]\n",
    "    ]\n",
    "\n",
    "    # Extract neutral pronouns and gender-neutral terms   token.text.lower().endswith(\"ees\") \"Menschis\"\n",
    "    neutral_pronouns = [\n",
    "        token.text for token in doc\n",
    "        if token.text.lower() in [\"studierende\", \"teilnehmende\", \"lernende\", \"lehrende\", \"prüfende\", \"mitarbeitende\", \"beschäftigte\", \"studieninteressierte\", \"forschende\", \"absolventinnen und absolventen\", \"referierende\", \"promovierende\", \"suchende\", \"interessierte\", \"anfragende\", \"mieterinnen und mieter\", \"vermietende\", \"vertragspartner\", \"wohnungssuchende\", \"besichtigende\", \"maklerinnen und makler\", \"wohnungsanbieter\", \"umziehende\", \"wohnraumsuchende\"]\n",
    "    ]\n",
    "\n",
    "    # Return the counts and lists of pronouns\n",
    "    return len(male_pronouns), male_pronouns, len(female_pronouns), female_pronouns, len(neutral_pronouns), neutral_pronouns\n",
    "\n",
    "df[[\"male_pronouns\", \"male_pronouns_\",\n",
    "    \"female_pronouns\", \"female_pronouns_\",\n",
    "    \"neutral_pronouns\", \"neutral_pronouns_\"]\n",
    "   ] = df[\"full_description\"].apply(extract_gender_usage).apply(pd.Series)\n",
    "\n"
   ]
  },
  {
   "cell_type": "code",
   "execution_count": 33,
   "metadata": {
    "pycharm": {
     "name": "#%%\n"
    }
   },
   "outputs": [],
   "source": [
    "def add_feature_count_coordinates(row:pd.Series, feature:str, idx:int) -> List[dict]:\n",
    "    tmp_list = []\n",
    "    for _ in range(row[feature]):\n",
    "        tmp_list.append({\n",
    "            \"index\": idx,\n",
    "            \"pronouns\": feature,\n",
    "            \"lat\": row[\"latitude\"],\n",
    "            \"lon\": row[\"longitude\"],\n",
    "            \"free_from\": row[\"free_from\"]\n",
    "            })\n",
    "    return tmp_list"
   ]
  },
  {
   "cell_type": "code",
   "execution_count": 34,
   "metadata": {
    "pycharm": {
     "name": "#%%\n"
    }
   },
   "outputs": [],
   "source": [
    "gender_data = []\n",
    "\n",
    "for idx, row in df.iterrows():\n",
    "    if row[\"latitude\"] > 55 or row[\"latitude\"] < 47:\n",
    "        continue\n",
    "    for feature in [\"female_pronouns\", \"male_pronouns\", \"neutral_pronouns\"]:\n",
    "        row_data = add_feature_count_coordinates(row, feature, idx)\n",
    "        if row_data:\n",
    "            gender_data.extend(row_data)\n",
    "\n",
    "gender_df = pd.DataFrame(data=gender_data)"
   ]
  },
  {
   "cell_type": "code",
   "execution_count": null,
   "metadata": {
    "pycharm": {
     "name": "#%%\n"
    }
   },
   "outputs": [],
   "source": [
    "df.iloc[[82,48,140,150,148], [30, 32, 34]]"
   ]
  },
  {
   "cell_type": "markdown",
   "metadata": {
    "pycharm": {
     "name": "#%% md\n"
    }
   },
   "source": [
    "## Clustering tf/idf"
   ]
  },
  {
   "cell_type": "code",
   "execution_count": 35,
   "metadata": {
    "pycharm": {
     "name": "#%%\n"
    }
   },
   "outputs": [
    {
     "name": "stderr",
     "output_type": "stream",
     "text": [
      "C:\\Users\\joonn\\PycharmProjects\\computational_spatial_humanities\\venv\\lib\\site-packages\\sklearn\\cluster\\_kmeans.py:870: FutureWarning: The default value of `n_init` will change from 10 to 'auto' in 1.4. Set the value of `n_init` explicitly to suppress the warning\n",
      "  warnings.warn(\n"
     ]
    }
   ],
   "source": [
    "# Vektorisieren der Textdaten\n",
    "vectorizer = TfidfVectorizer()\n",
    "X = vectorizer.fit_transform(df[\"full_description\"])\n",
    "# Anwenden des K-Means-Clustering-Algorithmus\n",
    "num_clusters = 4  # Anzahl der gewünschten Cluster\n",
    "kmeans = KMeans(n_clusters=num_clusters, random_state=2023)\n",
    "kmeans.fit(X)\n",
    "\n",
    "# Hinzufügen der Clusterlabels zum DataFrame\n",
    "df[\"cluster_label\"] = kmeans.labels_"
   ]
  },
  {
   "cell_type": "markdown",
   "metadata": {
    "pycharm": {
     "name": "#%% md\n"
    }
   },
   "source": [
    "# Output"
   ]
  },
  {
   "cell_type": "code",
   "execution_count": null,
   "metadata": {
    "editable": true,
    "pycharm": {
     "name": "#%%\n"
    },
    "slideshow": {
     "slide_type": ""
    },
    "tags": []
   },
   "outputs": [],
   "source": [
    "df.info()"
   ]
  },
  {
   "cell_type": "code",
   "execution_count": 36,
   "metadata": {
    "pycharm": {
     "name": "#%%\n"
    }
   },
   "outputs": [],
   "source": [
    "df.to_csv(f\"{data_path}wg_gesucht.csv\", index=False)"
   ]
  },
  {
   "cell_type": "code",
   "execution_count": 37,
   "metadata": {
    "pycharm": {
     "name": "#%%\n"
    }
   },
   "outputs": [],
   "source": [
    "gender_df.to_csv(f\"{data_path}gender_data.csv\", index=False)"
   ]
  },
  {
   "cell_type": "code",
   "execution_count": 38,
   "metadata": {
    "pycharm": {
     "name": "#%%\n"
    }
   },
   "outputs": [],
   "source": [
    "arc_df.to_csv(f\"{data_path}arc_wg_gesucht.csv\", index=False)"
   ]
  },
  {
   "cell_type": "code",
   "execution_count": null,
   "metadata": {
    "pycharm": {
     "name": "#%%\n"
    }
   },
   "outputs": [],
   "source": [
    "df[['full_description']].to_excel(f\"{data_path}description.xlsx\", index=False)\n",
    "df.to_excel(f\"{data_path}wg_gesucht.xlsx\", index=False)"
   ]
  },
  {
   "cell_type": "code",
   "execution_count": null,
   "metadata": {},
   "outputs": [],
   "source": [
    "# Serializing json\n",
    "json_object = json.dumps(places_dict, indent=4, ensure_ascii=False)\n",
    "\n",
    "with open(f\"{data_path}places.json\", \"w\", encoding='utf-8') as outfile:\n",
    "    outfile.write(json_object)"
   ]
  }
 ],
 "metadata": {
  "kernelspec": {
   "display_name": "Python 3 (ipykernel)",
   "language": "python",
   "name": "python3"
  },
  "language_info": {
   "codemirror_mode": {
    "name": "ipython",
    "version": 3
   },
   "file_extension": ".py",
   "mimetype": "text/x-python",
   "name": "python",
   "nbconvert_exporter": "python",
   "pygments_lexer": "ipython3",
   "version": "3.10.7"
  }
 },
 "nbformat": 4,
 "nbformat_minor": 4
}
